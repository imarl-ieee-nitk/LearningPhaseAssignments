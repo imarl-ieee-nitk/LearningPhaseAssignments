{
 "cells": [
  {
   "cell_type": "code",
   "execution_count": 130,
   "metadata": {},
   "outputs": [],
   "source": [
    "import numpy as np\n",
    "import random\n",
    "import matplotlib.pyplot as plt"
   ]
  },
  {
   "cell_type": "code",
   "execution_count": 109,
   "metadata": {},
   "outputs": [],
   "source": [
    "def setup_env():\n",
    "    '''\n",
    "    Arguments:\n",
    "            None\n",
    "    Returns:\n",
    "            num_rows: number of rows in the gridworld\n",
    "            num_columns: number of columns in the gridworld\n",
    "            start_state: tuple containing the starting state of the agent\n",
    "            goal_state: final goal \n",
    "            cliff: array containing the cliff states\n",
    "            states: array containing all states of the gridworld\n",
    "    '''\n",
    "    num_rows = 4\n",
    "    num_columns = 12\n",
    "    start_state = (3,0)\n",
    "    goal_state = (3,11)\n",
    "    cliff = [(3,1),(3,2),(3,3),(3,4),(3,5),(3,6),(3,7),(3,8),(3,9),(3,10)]\n",
    "    states = []\n",
    "    for row in range(num_rows):\n",
    "        for col in range(num_columns):\n",
    "            states.append((row,col))\n",
    "    \n",
    "    return num_rows,num_columns,start_state,goal_state,cliff,states"
   ]
  },
  {
   "cell_type": "code",
   "execution_count": 3,
   "metadata": {},
   "outputs": [],
   "source": [
    "# Make the necessary move \n",
    "\n",
    "def make_move(current_position,move,goal_state,cliff):\n",
    "    '''\n",
    "    Arguments: \n",
    "            current_position: tuple containing the current position of the agent\n",
    "            move: 'l','r','u' or 'd'\n",
    "            goal_state: tuple containing the final state\n",
    "            cliff: array containing the cliff states\n",
    "    Returns:\n",
    "            new_position: tuple containing the new position of the agent after the move is made\n",
    "            reward: reward assigned to the move made at the state depending on the next state reached\n",
    "    '''\n",
    "    \n",
    "    # Convert tuple to list so the operations are easier\n",
    "    current_position = list(current_position)\n",
    "    new_position = current_position\n",
    "    \n",
    "    # While making a move, it must be ensured that the agent doesn't go out of the environment\n",
    "    if move == 'l':\n",
    "        new_position[1] = max(0,current_position[1] - 1)\n",
    "    elif move == 'r':\n",
    "        new_position[1] = min(11,current_position[1] + 1)\n",
    "    elif move == 'u':\n",
    "        new_position[0] = max(0,current_position[0] - 1)\n",
    "    elif move == 'd':\n",
    "        new_position[0] = min(3,current_position[0] + 1)\n",
    "        \n",
    "    new_position = tuple(new_position)\n",
    "    reward = -1\n",
    "    \n",
    "    if new_position in cliff:\n",
    "        new_position = (3,0)\n",
    "        reward = -100\n",
    "    elif new_position == goal_state:\n",
    "        reward = 0\n",
    "    else:\n",
    "        reward = -1\n",
    "    \n",
    "    return new_position,reward\n"
   ]
  },
  {
   "cell_type": "code",
   "execution_count": 4,
   "metadata": {},
   "outputs": [],
   "source": [
    "# Find the best action\n",
    "\n",
    "def best_action(Q,state):\n",
    "    '''\n",
    "    Arguments:\n",
    "            Q: The state-action value function\n",
    "            state: current state of the agent\n",
    "    Returns:\n",
    "            max_action: The optimal action in the state\n",
    "    '''\n",
    "    val = -1e17\n",
    "    max_action = 'l'\n",
    "    # Iterate through all state action-pairs for the state and find the best one\n",
    "    for action,value in Q[state].items():\n",
    "        if value > val:\n",
    "            val = value\n",
    "            max_action = action\n",
    "    \n",
    "    return max_action\n",
    "\n",
    "\n",
    "# Find an action using epsilon-greedy policy\n",
    "\n",
    "def get_action(Q,state,epsilon):\n",
    "    '''\n",
    "    Arguments:\n",
    "            Q: The state-action value function\n",
    "            state: current state of the agent\n",
    "    Returns:\n",
    "            action: action picked by the epsilon-greedy policy\n",
    "    '''\n",
    "    val = np.random.rand()\n",
    "    action = ''\n",
    "    # if val > epsilon, choose the best action, else choose a random action\n",
    "    if val > epsilon:\n",
    "        action = best_action(Q,state)\n",
    "    else:\n",
    "        list_actions = get_possible_actions(state)\n",
    "        action = random.choice(list_actions)\n",
    "\n",
    "    return action"
   ]
  },
  {
   "cell_type": "code",
   "execution_count": 5,
   "metadata": {},
   "outputs": [],
   "source": [
    "# Find the list of possible action in a state\n",
    "\n",
    "def get_possible_actions(state):\n",
    "    '''\n",
    "    Arguments:\n",
    "            state: one of the states of the gridworld\n",
    "    Returns:\n",
    "            actions: list of possible actions from the given state\n",
    "    '''\n",
    "    actions = []\n",
    "    if state[0] > 0:\n",
    "        actions.append('u')\n",
    "    if state[0] < 3:\n",
    "        actions.append('d')\n",
    "    if state[1] > 0:\n",
    "        actions.append('l')\n",
    "    if state[1] < 11:\n",
    "        actions.append('r')\n",
    "    \n",
    "    return actions"
   ]
  },
  {
   "cell_type": "code",
   "execution_count": 149,
   "metadata": {},
   "outputs": [],
   "source": [
    "# Implementation of sarsa\n",
    "\n",
    "def sarsa(states,goal_state,start_state,cliff,alpha,epsilon,gamma = 1,episodes=1000):\n",
    "    '''\n",
    "    Arguments:\n",
    "            states: array of states in the gridworld\n",
    "            goal_state: tuple containing the goal state\n",
    "            start_state: tuple containing the start state\n",
    "            wind: array containing the wind strengths of different columns\n",
    "            alpha: step-size parameter\n",
    "            gamma: discount factor(1 here as the task is undiscounted)\n",
    "            episodes: number of episodes for training\n",
    "    Returns:\n",
    "            Q: state-action value function after sarsa is finished\n",
    "    '''\n",
    "    # Initialize the state-action value function\n",
    "    Q = {}\n",
    "    for state in states:\n",
    "        Q[state] = {}\n",
    "        possible_actions = get_possible_actions(state)\n",
    "        for action in possible_actions:\n",
    "            Q[state][action] = 0\n",
    "    \n",
    "    rewards = []\n",
    "    # Iterate for required number of episodes\n",
    "    for episode in range(1,episodes+1):\n",
    "        # Initialize current state and action\n",
    "        current_state = start_state\n",
    "        current_action = get_action(Q,current_state,epsilon)\n",
    "        # Variable to calculate reward in an episode\n",
    "        r = 0\n",
    "        # Loop until goal is not reached\n",
    "        while current_state != goal_state:\n",
    "            \n",
    "            next_state,reward = make_move(current_state,current_action,goal_state,cliff)\n",
    "            next_action = get_action(Q,next_state,epsilon)       # Find next action based on epsilon-greedy policy\n",
    "            r += reward\n",
    "            # Sarsa update\n",
    "            Q[current_state][current_action] = Q[current_state][current_action] + alpha*(reward + gamma*Q[next_state][next_action] - Q[current_state][current_action])\n",
    "            \n",
    "            current_state = next_state\n",
    "            current_action = next_action\n",
    "            if current_state == goal_state:\n",
    "                break\n",
    "        rewards.append(r)\n",
    "    return Q,rewards"
   ]
  },
  {
   "cell_type": "code",
   "execution_count": 143,
   "metadata": {},
   "outputs": [],
   "source": [
    "# Implementation of Q learning\n",
    "\n",
    "def Q_learning(states,goal_state,start_state,cliff,alpha = 0.1,epsilon = 0.1,gamma = 1,episodes=1000):\n",
    "    '''\n",
    "    Arguments:\n",
    "            states: array of states in the gridworld\n",
    "            goal_state: tuple containing the goal state\n",
    "            start_state: tuple containing the start state\n",
    "            wind: array containing the wind strengths of different columns\n",
    "            alpha: step-size parameter\n",
    "            gamma: discount factor(1 here as the task is undiscounted)\n",
    "            episodes: number of episodes for training\n",
    "    Returns:\n",
    "            Q: state-action value function after Q learning is finished\n",
    "    '''\n",
    "    # Initialize the state-action value function\n",
    "    Q = {}\n",
    "    for state in states:\n",
    "        Q[state] = {}\n",
    "        possible_actions = get_possible_actions(state)\n",
    "        for action in possible_actions:\n",
    "            Q[state][action] = 0\n",
    "    rewards = []\n",
    "    # Iterate for required number of episodes\n",
    "    for episode in range(1,episodes+1):\n",
    "        # Initialize current state and action\n",
    "        current_state = start_state\n",
    "        current_action = get_action(Q,current_state,epsilon/episode)\n",
    "        \n",
    "        # Variable to calculate reward in an episode\n",
    "        r = 0\n",
    "        # Loop until goal is not reached\n",
    "        while current_state != goal_state:\n",
    "            \n",
    "            next_state,reward = make_move(current_state,current_action,goal_state,cliff)\n",
    "            next_action = best_action(Q,next_state)       # Find next action based on greedy policy\n",
    "            r += reward\n",
    "            \n",
    "            # Q Learning update\n",
    "            Q[current_state][current_action] = Q[current_state][current_action] + alpha*(reward + gamma*Q[next_state][next_action] - Q[current_state][current_action])\n",
    "            \n",
    "            current_state = next_state\n",
    "            current_action = next_action\n",
    "            if current_state == goal_state:\n",
    "                break\n",
    "        \n",
    "        rewards.append(r)\n",
    "    return Q,rewards"
   ]
  },
  {
   "cell_type": "code",
   "execution_count": 144,
   "metadata": {},
   "outputs": [],
   "source": [
    "# Optimal policy \n",
    "\n",
    "def optimal_policy(Q,states,goal_state,start_state,cliff,num_rows,num_columns):\n",
    "    '''\n",
    "    Arguments:\n",
    "            Q: state-action value function after sarsa is completed\n",
    "            states: array of states in the gridworld\n",
    "            goal_state: tuple containing the goal state\n",
    "            start_state: tuple containing the start state\n",
    "            wind: array containing the wind strengths of different columns\n",
    "            num_rows: number of rows in the gridworld\n",
    "            num_columns: number of columns in the gridworld\n",
    "    Returns:\n",
    "            visiting: array containing the steps taken in optimal path\n",
    "            returns: return when optimal path is followed\n",
    "            path: array containing the optimal path\n",
    "            \n",
    "    '''\n",
    "    current_state = start_state\n",
    "    path = []\n",
    "    path.append(current_state)\n",
    "    visiting = np.zeros((num_rows,num_columns))\n",
    "    steps = 2\n",
    "    returns = 0\n",
    "    # Follow greedy policy from start state until goal is reached\n",
    "    while 1:\n",
    "        action = best_action(Q,current_state)\n",
    "        next_state,r = make_move(current_state,action,goal_state,cliff)\n",
    "        returns += r\n",
    "        visiting[next_state[0]][next_state[1]] = steps\n",
    "        current_state = next_state\n",
    "        steps += 1\n",
    "        path.append(current_state)\n",
    "        if current_state == goal_state:\n",
    "            break\n",
    "    visiting[start_state[0]][start_state[1]] = 1\n",
    "            \n",
    "    return visiting,returns,path"
   ]
  },
  {
   "cell_type": "code",
   "execution_count": 145,
   "metadata": {},
   "outputs": [],
   "source": [
    "def print_results(num_rows,num_columns,visiting,reward,path):\n",
    "    '''\n",
    "    Arguments:\n",
    "            num_rows: number of rows in the environment\n",
    "            num_columns: number of columns in the environment\n",
    "            visiting: array denoting the states visited in the optimal path\n",
    "            reward: reward in the optimal path\n",
    "            path: optimal path followed by the agent\n",
    "    '''\n",
    "    print(\"The optimal path is:\")\n",
    "    path = '->'.join([str(item) for item in path])\n",
    "    print(path,'\\n')\n",
    "    print('The path taken can be visualized as:')\n",
    "    for i in range(num_rows):\n",
    "        for j in range(num_columns):\n",
    "            print('{:1.0f}'.format(visiting[i][j]), end=\"\\t\")\n",
    "        print()\n",
    "    print(f'\\nThe optimal return is {reward}')"
   ]
  },
  {
   "cell_type": "code",
   "execution_count": 231,
   "metadata": {},
   "outputs": [],
   "source": [
    "# Function to implement sarsa learning\n",
    "\n",
    "def implement_sarsa():\n",
    "    '''\n",
    "    Arguments: None\n",
    "    Returns:\n",
    "            rewards: array containing rewards in all the episodes\n",
    "    '''\n",
    "    # Define env\n",
    "    num_rows,num_columns,start_state,goal_state,cliff,states = setup_env()\n",
    "    # Find state action value function\n",
    "    Q,rewards = sarsa(states,goal_state,start_state,cliff,alpha = 0.1,epsilon = 0.2,gamma = 1,episodes = 500)\n",
    "    \n",
    "    # Find optimal path\n",
    "    visiting,reward,path = optimal_policy(Q,states,goal_state,start_state,cliff,num_rows,num_columns)\n",
    "    print_results(num_rows,num_columns,visiting,reward,path)\n",
    "    return rewards\n"
   ]
  },
  {
   "cell_type": "code",
   "execution_count": 227,
   "metadata": {},
   "outputs": [],
   "source": [
    "def implement_Q():\n",
    "    \n",
    "    # Define env\n",
    "    num_rows,num_columns,start_state,goal_state,cliff,states = setup_env()\n",
    "    # Find state action value function\n",
    "    Q,rewards = Q_learning(states,goal_state,start_state,cliff,alpha = 0.5,epsilon = 0.1,gamma = 1,episodes = 200)\n",
    "    \n",
    "    # Find optimal path\n",
    "    visiting,reward,path = optimal_policy(Q,states,goal_state,start_state,cliff,num_rows,num_columns)\n",
    "    print_results(num_rows,num_columns,visiting,reward,path)\n",
    "    return rewards\n"
   ]
  },
  {
   "cell_type": "code",
   "execution_count": 235,
   "metadata": {},
   "outputs": [
    {
     "name": "stdout",
     "output_type": "stream",
     "text": [
      "The optimal path is:\n",
      "(3, 0)->(2, 0)->(1, 0)->(1, 1)->(1, 2)->(1, 3)->(1, 4)->(1, 5)->(1, 6)->(1, 7)->(1, 8)->(1, 9)->(1, 10)->(1, 11)->(2, 11)->(3, 11) \n",
      "\n",
      "The path taken can be visualized as:\n",
      "0\t0\t0\t0\t0\t0\t0\t0\t0\t0\t0\t0\t\n",
      "3\t4\t5\t6\t7\t8\t9\t10\t11\t12\t13\t14\t\n",
      "2\t0\t0\t0\t0\t0\t0\t0\t0\t0\t0\t15\t\n",
      "1\t0\t0\t0\t0\t0\t0\t0\t0\t0\t0\t16\t\n",
      "\n",
      "The optimal return is -14\n"
     ]
    },
    {
     "data": {
      "image/png": "[encoded data removed]",
      "text/plain": [
       "<Figure size 1080x576 with 1 Axes>"
      ]
     },
     "metadata": {
      "needs_background": "light"
     },
     "output_type": "display_data"
    }
   ],
   "source": [
    "sarsa_rewards = implement_sarsa()\n",
    "# print_results()\n",
    "plt.figure(figsize=(15,8))\n",
    "plt.plot(sarsa_rewards)\n",
    "plt.xlabel('No of episodes')\n",
    "plt.ylabel('Sum of rewards per episode')\n",
    "plt.show()"
   ]
  },
  {
   "cell_type": "code",
   "execution_count": 228,
   "metadata": {},
   "outputs": [
    {
     "name": "stdout",
     "output_type": "stream",
     "text": [
      "The optimal path is:\n",
      "(3, 0)->(2, 0)->(2, 1)->(2, 2)->(2, 3)->(2, 4)->(2, 5)->(2, 6)->(2, 7)->(2, 8)->(2, 9)->(2, 10)->(2, 11)->(3, 11) \n",
      "\n",
      "The path taken can be visualized as:\n",
      "0\t0\t0\t0\t0\t0\t0\t0\t0\t0\t0\t0\t\n",
      "0\t0\t0\t0\t0\t0\t0\t0\t0\t0\t0\t0\t\n",
      "2\t3\t4\t5\t6\t7\t8\t9\t10\t11\t12\t13\t\n",
      "1\t0\t0\t0\t0\t0\t0\t0\t0\t0\t0\t14\t\n",
      "\n",
      "The optimal return is -12\n"
     ]
    },
    {
     "data": {
      "image/png": "[encoded data removed]",
      "text/plain": [
       "<Figure size 1080x576 with 1 Axes>"
      ]
     },
     "metadata": {
      "needs_background": "light"
     },
     "output_type": "display_data"
    }
   ],
   "source": [
    "Q_rewards = implement_Q()\n",
    "plt.figure(figsize=(15,8))\n",
    "plt.plot(Q_rewards)\n",
    "plt.xlabel('No of episodes')\n",
    "plt.ylabel('Sum of rewards per episode')\n",
    "plt.show()"
   ]
  },
  {
   "cell_type": "code",
   "execution_count": 141,
   "metadata": {},
   "outputs": [
    {
     "data": {
      "text/plain": [
       "[<matplotlib.lines.Line2D at 0x7f631acb9510>]"
      ]
     },
     "execution_count": 141,
     "metadata": {},
     "output_type": "execute_result"
    },
    {
     "data": {
      "image/png": "[encoded data removed]",
      "text/plain": [
       "<Figure size 432x288 with 1 Axes>"
      ]
     },
     "metadata": {
      "needs_background": "light"
     },
     "output_type": "display_data"
    }
   ],
   "source": [
    "plt.plot(rewards)"
   ]
  },
  {
   "cell_type": "code",
   "execution_count": null,
   "metadata": {},
   "outputs": [],
   "source": []
  }
 ],
 "metadata": {
  "kernelspec": {
   "display_name": "Python 3",
   "language": "python",
   "name": "python3"
  },
  "language_info": {
   "codemirror_mode": {
    "name": "ipython",
    "version": 3
   },
   "file_extension": ".py",
   "mimetype": "text/x-python",
   "name": "python",
   "nbconvert_exporter": "python",
   "pygments_lexer": "ipython3",
   "version": "3.7.6"
  }
 },
 "nbformat": 4,
 "nbformat_minor": 4
}
